{
 "cells": [
  {
   "cell_type": "code",
   "execution_count": 1,
   "metadata": {},
   "outputs": [
    {
     "name": "stdout",
     "output_type": "stream",
     "text": [
      "Threshold: 10, Accuracy: 0.80, Precision: 0.80, Recall: 1.00\n",
      "Threshold: 20, Accuracy: 0.80, Precision: 0.80, Recall: 1.00\n",
      "Threshold: 30, Accuracy: 0.80, Precision: 0.80, Recall: 1.00\n",
      "Threshold: 40, Accuracy: 0.78, Precision: 0.80, Recall: 0.98\n",
      "Threshold: 50, Accuracy: 0.72, Precision: 0.79, Recall: 0.88\n",
      "Threshold: 60, Accuracy: 0.64, Precision: 0.78, Recall: 0.77\n",
      "Threshold: 70, Accuracy: 0.57, Precision: 0.76, Recall: 0.68\n",
      "Threshold: 80, Accuracy: 0.55, Precision: 0.76, Recall: 0.65\n",
      "Threshold: 90, Accuracy: 0.53, Precision: 0.75, Recall: 0.62\n",
      "Threshold: 100, Accuracy: 0.52, Precision: 0.75, Recall: 0.60\n"
     ]
    }
   ],
   "source": [
    "import os\n",
    "import cv2\n",
    "from sklearn.metrics import accuracy_score, precision_score, recall_score, classification_report\n",
    "\n",
    "data_folder = \"data\"\n",
    "good_folder = os.path.join(data_folder, \"good\")\n",
    "bad_folder = os.path.join(data_folder, \"bad\")\n",
    "acc = []\n",
    "\n",
    "resize_dim = (128, 128)  # resize dimensions\n",
    "\n",
    "def preprocess_image(image_path, resize_dim):\n",
    "    image = cv2.imread(image_path, cv2.IMREAD_GRAYSCALE)\n",
    "    image_resized = cv2.resize(image, resize_dim, interpolation=cv2.INTER_AREA)\n",
    "    image_equalized = cv2.equalizeHist(image_resized)\n",
    "    image_blurred = cv2.GaussianBlur(image_equalized, (5, 5), 0)\n",
    "    return image_blurred\n",
    "\n",
    "def classify_image(image_path, threshold=10, resize_dim=(128, 128)):\n",
    "    image = preprocess_image(image_path, resize_dim)\n",
    "    laplacian_var = cv2.Laplacian(image, cv2.CV_64F).var()\n",
    "    return \"good\" if laplacian_var > threshold else \"bad\"\n",
    "\n",
    "for i in range(10, 110, 10):\n",
    "    threshold = i\n",
    "    true_labels = []\n",
    "    predicted_labels = []\n",
    "\n",
    "    # Process \"good\" images\n",
    "    for filename in os.listdir(good_folder):\n",
    "        file_path = os.path.join(good_folder, filename)\n",
    "        if not filename.lower().endswith(('.png')):\n",
    "            continue\n",
    "        true_labels.append(\"good\")\n",
    "        predicted_labels.append(classify_image(file_path, threshold, resize_dim))\n",
    "\n",
    "    # Process \"bad\" images\n",
    "    for filename in os.listdir(bad_folder):\n",
    "        file_path = os.path.join(bad_folder, filename)\n",
    "        if not filename.lower().endswith(('.png')):\n",
    "            continue\n",
    "        true_labels.append(\"bad\")\n",
    "        predicted_labels.append(classify_image(file_path, threshold, resize_dim))\n",
    "\n",
    "    # Calculate metrics\n",
    "    accuracy = accuracy_score(true_labels, predicted_labels)\n",
    "    precision = precision_score(true_labels, predicted_labels, pos_label=\"good\")\n",
    "    recall = recall_score(true_labels, predicted_labels, pos_label=\"good\")\n",
    "\n",
    "    print(f\"Threshold: {i}, Accuracy: {accuracy:.2f}, Precision: {precision:.2f}, Recall: {recall:.2f}\")\n",
    "    acc.append(accuracy)\n"
   ]
  },
  {
   "cell_type": "code",
   "execution_count": null,
   "metadata": {},
   "outputs": [],
   "source": []
  }
 ],
 "metadata": {
  "kernelspec": {
   "display_name": "myenv",
   "language": "python",
   "name": "python3"
  },
  "language_info": {
   "codemirror_mode": {
    "name": "ipython",
    "version": 3
   },
   "file_extension": ".py",
   "mimetype": "text/x-python",
   "name": "python",
   "nbconvert_exporter": "python",
   "pygments_lexer": "ipython3",
   "version": "3.9.20"
  }
 },
 "nbformat": 4,
 "nbformat_minor": 2
}
