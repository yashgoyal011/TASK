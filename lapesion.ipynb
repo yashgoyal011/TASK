{
 "cells": [
  {
   "cell_type": "code",
   "execution_count": 2,
   "metadata": {},
   "outputs": [
    {
     "name": "stdout",
     "output_type": "stream",
     "text": [
      "threshold: 10, Accuracy: 0.80\n",
      "threshold: 20, Accuracy: 0.80\n",
      "threshold: 30, Accuracy: 0.80\n",
      "threshold: 40, Accuracy: 0.78\n",
      "threshold: 50, Accuracy: 0.72\n",
      "threshold: 60, Accuracy: 0.64\n",
      "threshold: 70, Accuracy: 0.57\n",
      "threshold: 80, Accuracy: 0.55\n",
      "threshold: 90, Accuracy: 0.53\n",
      "threshold: 100, Accuracy: 0.52\n"
     ]
    }
   ],
   "source": [
    "import os\n",
    "import cv2\n",
    "from sklearn.metrics import classification_report\n",
    "\n",
    "data_folder = \"data\"\n",
    "good_folder = os.path.join(data_folder, \"good\")\n",
    "bad_folder = os.path.join(data_folder, \"bad\")\n",
    "acc = []\n",
    "for i in range(10,110,10):\n",
    "    threshold = i\n",
    "\n",
    "    resize_dim = (128, 128)  # resize \n",
    "\n",
    "    def preprocess_image(image_path, resize_dim):\n",
    "        \n",
    "    \n",
    "        image = cv2.imread(image_path, cv2.IMREAD_GRAYSCALE)\n",
    "        \n",
    "    \n",
    "        image_resized = cv2.resize(image, resize_dim, interpolation=cv2.INTER_AREA)\n",
    "        \n",
    "    \n",
    "        image_equalized = cv2.equalizeHist(image_resized)\n",
    "        \n",
    "    \n",
    "        image_blurred = cv2.GaussianBlur(image_equalized, (5, 5), 0)\n",
    "        \n",
    "        return image_blurred\n",
    "\n",
    "    def classify_image(image_path, threshold=10, resize_dim=(128, 128)):\n",
    "    \n",
    "        image = preprocess_image(image_path, resize_dim)\n",
    "        \n",
    "        laplacian_var = cv2.Laplacian(image, cv2.CV_64F).var()\n",
    "    \n",
    "        return \"good\" if laplacian_var > threshold else \"bad\"\n",
    "\n",
    "\n",
    "    true_labels = []\n",
    "    predicted_labels = []\n",
    "\n",
    "\n",
    "    for filename in os.listdir(good_folder):\n",
    "        file_path = os.path.join(good_folder, filename)\n",
    "        if not filename.lower().endswith(('.png')):\n",
    "            continue\n",
    "        true_labels.append(\"good\")\n",
    "        # Predicted label\n",
    "        predicted_labels.append(classify_image(file_path, threshold, resize_dim))\n",
    "\n",
    "\n",
    "    for filename in os.listdir(bad_folder):\n",
    "        file_path = os.path.join(bad_folder, filename)\n",
    "        if not filename.lower().endswith(('.png')):\n",
    "            continue\n",
    "        \n",
    "        true_labels.append(\"bad\")\n",
    "        predicted_labels.append(classify_image(file_path, threshold, resize_dim))\n",
    "\n",
    "\n",
    "    from sklearn.metrics import accuracy_score\n",
    "\n",
    "    # Calculate accuracy\n",
    "    accuracy = accuracy_score(true_labels, predicted_labels)\n",
    "    print(f\"threshold: {i}, Accuracy: {accuracy:.2f}\")\n",
    "    acc.append(accuracy)\n",
    "\n"
   ]
  },
  {
   "cell_type": "code",
   "execution_count": null,
   "metadata": {},
   "outputs": [],
   "source": []
  }
 ],
 "metadata": {
  "kernelspec": {
   "display_name": "myenv",
   "language": "python",
   "name": "python3"
  },
  "language_info": {
   "codemirror_mode": {
    "name": "ipython",
    "version": 3
   },
   "file_extension": ".py",
   "mimetype": "text/x-python",
   "name": "python",
   "nbconvert_exporter": "python",
   "pygments_lexer": "ipython3",
   "version": "3.9.20"
  }
 },
 "nbformat": 4,
 "nbformat_minor": 2
}
