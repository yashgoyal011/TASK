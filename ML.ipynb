{
 "cells": [
  {
   "cell_type": "code",
   "execution_count": 1,
   "metadata": {},
   "outputs": [
    {
     "name": "stdout",
     "output_type": "stream",
     "text": [
      "Accuracy: 0.87\n",
      "Precision: 0.90\n",
      "Recall: 0.95\n"
     ]
    }
   ],
   "source": [
    "import os\n",
    "import cv2\n",
    "import numpy as np\n",
    "from sklearn.model_selection import train_test_split\n",
    "from sklearn.ensemble import RandomForestClassifier\n",
    "from sklearn.svm import SVC\n",
    "from sklearn.metrics import accuracy_score, precision_score, recall_score\n",
    "from skimage.measure import shannon_entropy\n",
    "\n",
    "data_dir = \"data\"\n",
    "path_good = os.path.join(data_dir, \"good\")\n",
    "path_bad = os.path.join(data_dir, \"bad\")\n",
    "resize_size = (128, 128)\n",
    "\n",
    "def process_image(image_path, resize_size):\n",
    "    img = cv2.imread(image_path, cv2.IMREAD_GRAYSCALE)\n",
    "    img_resized = cv2.resize(img, resize_size, interpolation=cv2.INTER_AREA)\n",
    "    img_equalized = cv2.equalizeHist(img_resized)\n",
    "    img_blurred = cv2.GaussianBlur(img_equalized, (5, 5), 0)\n",
    "    return img_blurred\n",
    "\n",
    "def get_features(image):\n",
    "    sharpness = cv2.Laplacian(image, cv2.CV_64F).var()\n",
    "    edges = cv2.Canny(image, 100, 200)\n",
    "    edge_density = edges.sum() / (resize_size[0] * resize_size[1])\n",
    "    entropy = shannon_entropy(image)\n",
    "    return np.array([sharpness, edge_density, entropy])\n",
    "\n",
    "def load_images(path_good, path_bad, resize_size):\n",
    "    features, labels = [], []\n",
    "    for file_name in os.listdir(path_good):\n",
    "        file_path = os.path.join(path_good, file_name)\n",
    "        if not file_name.lower().endswith(('.png', '.jpg', '.jpeg', '.bmp', '.tiff')):\n",
    "            continue\n",
    "        img = process_image(file_path, resize_size)\n",
    "        features.append(get_features(img))\n",
    "        labels.append(1)\n",
    "    for file_name in os.listdir(path_bad):\n",
    "        file_path = os.path.join(path_bad, file_name)\n",
    "        if not file_name.lower().endswith(('.png', '.jpg', '.jpeg', '.bmp', '.tiff')):\n",
    "            continue\n",
    "        img = process_image(file_path, resize_size)\n",
    "        features.append(get_features(img))\n",
    "        labels.append(0)\n",
    "    return np.array(features), np.array(labels)\n",
    "\n",
    "features, labels = load_images(path_good, path_bad, resize_size)\n",
    "train_features, test_features, train_labels, test_labels = train_test_split(features, labels, test_size=0.3, random_state=42)\n",
    "use_rf = True\n",
    "\n",
    "if use_rf:\n",
    "    model = RandomForestClassifier(n_estimators=100, random_state=42)\n",
    "else:\n",
    "    model = SVC(kernel='rbf', C=1.0, random_state=42)\n",
    "\n",
    "model.fit(train_features, train_labels)\n",
    "predictions = model.predict(test_features)\n",
    "\n",
    "# Calculate metrics\n",
    "accuracy = accuracy_score(test_labels, predictions)\n",
    "precision = precision_score(test_labels, predictions, pos_label=1)\n",
    "recall = recall_score(test_labels, predictions, pos_label=1)\n",
    "\n",
    "# Print results\n",
    "print(f\"Accuracy: {accuracy:.2f}\")\n",
    "print(f\"Precision: {precision:.2f}\")\n",
    "print(f\"Recall: {recall:.2f}\")\n"
   ]
  },
  {
   "cell_type": "code",
   "execution_count": null,
   "metadata": {},
   "outputs": [],
   "source": []
  }
 ],
 "metadata": {
  "kernelspec": {
   "display_name": "myenv",
   "language": "python",
   "name": "python3"
  },
  "language_info": {
   "codemirror_mode": {
    "name": "ipython",
    "version": 3
   },
   "file_extension": ".py",
   "mimetype": "text/x-python",
   "name": "python",
   "nbconvert_exporter": "python",
   "pygments_lexer": "ipython3",
   "version": "3.9.20"
  }
 },
 "nbformat": 4,
 "nbformat_minor": 2
}
